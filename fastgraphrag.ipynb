{
 "cells": [
  {
   "cell_type": "code",
   "execution_count": 4,
   "id": "20984529",
   "metadata": {},
   "outputs": [],
   "source": [
    "from fast_graphrag import GraphRAG"
   ]
  },
  {
   "cell_type": "code",
   "execution_count": 5,
   "id": "53e580d0",
   "metadata": {},
   "outputs": [],
   "source": [
    "import nest_asyncio\n",
    "nest_asyncio.apply()"
   ]
  },
  {
   "cell_type": "code",
   "execution_count": null,
   "id": "e561efbf",
   "metadata": {},
   "outputs": [],
   "source": [
    "# 엔티티\n",
    "ENTITY_TYPES = [\"Telecom\", \"Plan\", \"DataService\", \"CallService\", \"MessageService\", \"Benefit\"]\n",
    "\n",
    "# 도메인 설명\n",
    "DOMAIN = \"대한민국 3대 통신사(SK텔레콤, KT, LG U+)의 요금제 정보 및 비교 분석\"\n",
    "\n",
    "# 예시 질의/질문패턴 정의\n",
    "EXAMPLE_QUERIES = [\n",
    "    \"SK텔레콤의 5G 요금제 중 데이터 무제한인 상품 알려줘\",\n",
    "    \"월 3만원 이하의 요금제 추천해줘\",\n",
    "    \"LG U+와 KT 중 영상통화 무제한 요금제는 어느 회사가 더 저렴해?\",\n",
    "    \"데이터 소진 후 속도 제한이 없는 요금제는?\",\n",
    "    \"가족 간 데이터 공유 가능한 요금제 알려줘\",\n",
    "    \"학생에게 추천하는 요금제 뭐가 있어?\"\n",
    "]\n",
    "\n",
    "# GraphRAG 인스턴스 생성\n",
    "telecom_rag = GraphRAG(\n",
    "    working_dir=\"./telecom_plans_graph\",\n",
    "    domain=DOMAIN,\n",
    "    example_queries=\"\\n\".join(EXAMPLE_QUERIES),\n",
    "    entity_types=ENTITY_TYPES\n",
    ")\n"
   ]
  },
  {
   "cell_type": "code",
   "execution_count": null,
   "id": "3f5efc12",
   "metadata": {},
   "outputs": [
    {
     "name": "stderr",
     "output_type": "stream",
     "text": [
      "Extracting data: 100%|██████████| 1/1 [00:15<00:00, 15.37s/it]\n",
      "Building [done]: 100%|██████████| 7/7 [00:01<00:00,  5.46it/s]                     \n",
      "Extracting data: 100%|██████████| 1/1 [00:10<00:00, 10.18s/it]\n",
      "Building [done]: 100%|██████████| 7/7 [00:00<00:00,  7.05it/s]                     \n",
      "Extracting data: 100%|██████████| 1/1 [00:14<00:00, 14.90s/it]\n",
      "Building [done]: 100%|██████████| 7/7 [00:01<00:00,  3.87it/s]                     \n",
      "Extracting data: 100%|██████████| 1/1 [00:25<00:00, 25.72s/it]\n",
      "Building [done]: 100%|██████████| 7/7 [00:02<00:00,  2.46it/s]                     \n",
      "Extracting data: 100%|██████████| 1/1 [00:14<00:00, 14.84s/it]\n",
      "Building [done]: 100%|██████████| 7/7 [00:02<00:00,  2.84it/s]                     \n",
      "Extracting data: 100%|██████████| 1/1 [00:11<00:00, 11.06s/it]\n",
      "Building [done]: 100%|██████████| 7/7 [00:01<00:00,  4.63it/s]                     \n",
      "Extracting data: 100%|██████████| 1/1 [00:17<00:00, 17.34s/it]\n",
      "Building [done]: 100%|██████████| 7/7 [00:01<00:00,  4.99it/s]                     \n",
      "Extracting data: 100%|██████████| 1/1 [00:18<00:00, 18.54s/it]\n",
      "Building [done]: 100%|██████████| 7/7 [00:01<00:00,  3.91it/s]                    \n",
      "Extracting data: 100%|██████████| 1/1 [00:18<00:00, 18.25s/it]\n",
      "Building [done]: 100%|██████████| 7/7 [00:02<00:00,  3.24it/s]                   \n",
      "Extracting data: 100%|██████████| 1/1 [00:11<00:00, 11.69s/it]\n",
      "Building [done]: 100%|██████████| 7/7 [00:02<00:00,  3.30it/s]                     \n",
      "Extracting data: 100%|██████████| 1/1 [00:12<00:00, 12.93s/it]\n",
      "Building [done]: 100%|██████████| 7/7 [00:01<00:00,  4.00it/s]                     \n",
      "Extracting data: 100%|██████████| 1/1 [00:15<00:00, 15.52s/it]\n",
      "Building [done]: 100%|██████████| 7/7 [00:01<00:00,  5.43it/s]                    \n",
      "Extracting data: 100%|██████████| 1/1 [00:12<00:00, 12.71s/it]\n",
      "Building [done]: 100%|██████████| 7/7 [00:02<00:00,  3.25it/s]                    \n",
      "Extracting data: 100%|██████████| 1/1 [00:07<00:00,  7.56s/it]\n",
      "Building [done]: 100%|██████████| 7/7 [00:01<00:00,  3.53it/s]                     \n",
      "Extracting data: 100%|██████████| 1/1 [00:12<00:00, 12.80s/it]\n",
      "Building [done]: 100%|██████████| 7/7 [00:00<00:00,  7.03it/s]                    \n",
      "Extracting data: 100%|██████████| 1/1 [00:08<00:00,  8.13s/it]\n",
      "Building [done]: 100%|██████████| 7/7 [00:06<00:00,  1.13it/s]                   \n",
      "Extracting data: 100%|██████████| 1/1 [00:22<00:00, 22.13s/it]\n",
      "Building [done]: 100%|██████████| 7/7 [00:01<00:00,  5.28it/s]                    \n",
      "Extracting data: 100%|██████████| 1/1 [00:17<00:00, 17.87s/it]\n",
      "Building [done]: 100%|██████████| 7/7 [00:01<00:00,  3.86it/s]                    \n",
      "Extracting data: 100%|██████████| 1/1 [00:41<00:00, 41.71s/it]\n",
      "Building [done]: 100%|██████████| 7/7 [00:01<00:00,  6.21it/s]                    \n",
      "Extracting data: 100%|██████████| 1/1 [00:22<00:00, 22.59s/it]\n",
      "Building [done]: 100%|██████████| 7/7 [00:01<00:00,  3.86it/s]                    \n",
      "Extracting data: 100%|██████████| 1/1 [00:19<00:00, 19.77s/it]\n",
      "Building [done]: 100%|██████████| 7/7 [00:01<00:00,  4.01it/s]                    \n",
      "Extracting data: 100%|██████████| 1/1 [00:14<00:00, 14.62s/it]\n",
      "Building [done]: 100%|██████████| 7/7 [00:03<00:00,  2.11it/s]                   \n",
      "Extracting data: 100%|██████████| 1/1 [00:20<00:00, 20.35s/it]\n",
      "Building [done]: 100%|██████████| 7/7 [00:01<00:00,  4.18it/s]                     \n",
      "Extracting data: 100%|██████████| 1/1 [00:15<00:00, 15.20s/it]\n",
      "Building [done]: 100%|██████████| 7/7 [00:02<00:00,  2.85it/s]                     \n",
      "Extracting data: 100%|██████████| 1/1 [00:14<00:00, 14.16s/it]\n",
      "Building [done]: 100%|██████████| 7/7 [00:01<00:00,  5.48it/s]                     \n",
      "Extracting data: 100%|██████████| 1/1 [00:13<00:00, 13.47s/it]\n",
      "Building [done]: 100%|██████████| 7/7 [00:02<00:00,  2.37it/s]                   \n",
      "Extracting data: 100%|██████████| 1/1 [00:11<00:00, 11.68s/it]\n",
      "Building [done]: 100%|██████████| 7/7 [00:01<00:00,  5.34it/s]                    \n",
      "Extracting data: 100%|██████████| 1/1 [00:13<00:00, 13.94s/it]\n",
      "Building [done]: 100%|██████████| 7/7 [00:03<00:00,  1.91it/s]                   \n",
      "Extracting data: 100%|██████████| 1/1 [00:17<00:00, 17.72s/it]\n",
      "Building [done]: 100%|██████████| 7/7 [00:04<00:00,  1.51it/s]                   \n",
      "Extracting data: 100%|██████████| 1/1 [00:15<00:00, 15.11s/it]\n",
      "Building [done]: 100%|██████████| 7/7 [00:03<00:00,  2.11it/s]                   \n",
      "Extracting data: 100%|██████████| 1/1 [00:11<00:00, 11.79s/it]\n",
      "Building [done]: 100%|██████████| 7/7 [00:04<00:00,  1.71it/s]                   \n",
      "Extracting data: 100%|██████████| 1/1 [00:11<00:00, 11.72s/it]\n",
      "Building [done]: 100%|██████████| 7/7 [00:02<00:00,  2.96it/s]                   \n",
      "Extracting data: 100%|██████████| 1/1 [00:16<00:00, 16.66s/it]\n",
      "Building [done]: 100%|██████████| 7/7 [00:01<00:00,  4.43it/s]                    \n",
      "Extracting data: 100%|██████████| 1/1 [00:15<00:00, 15.31s/it]\n",
      "Building [done]: 100%|██████████| 7/7 [00:02<00:00,  2.49it/s]                   \n",
      "Extracting data: 100%|██████████| 1/1 [00:15<00:00, 15.36s/it]\n",
      "Building [done]: 100%|██████████| 7/7 [00:04<00:00,  1.67it/s]                   \n",
      "Extracting data: 100%|██████████| 1/1 [00:20<00:00, 20.59s/it]\n",
      "Building [done]: 100%|██████████| 7/7 [00:01<00:00,  4.31it/s]                    \n",
      "Extracting data: 100%|██████████| 1/1 [00:16<00:00, 16.85s/it]\n",
      "Building [done]: 100%|██████████| 7/7 [00:01<00:00,  3.59it/s]                   \n",
      "Extracting data: 100%|██████████| 1/1 [00:14<00:00, 14.30s/it]\n",
      "Building [done]: 100%|██████████| 7/7 [00:02<00:00,  2.60it/s]                   \n",
      "Extracting data: 100%|██████████| 1/1 [00:11<00:00, 11.77s/it]\n",
      "Building [done]: 100%|██████████| 7/7 [00:02<00:00,  2.44it/s]                   \n",
      "Extracting data: 100%|██████████| 1/1 [00:10<00:00, 10.64s/it]\n",
      "Building [done]: 100%|██████████| 7/7 [00:02<00:00,  3.27it/s]                   \n",
      "Extracting data: 100%|██████████| 1/1 [00:12<00:00, 12.76s/it]\n",
      "Building [done]: 100%|██████████| 7/7 [00:03<00:00,  2.01it/s]                   \n",
      "Extracting data: 100%|██████████| 1/1 [00:18<00:00, 18.60s/it]\n",
      "Building [done]: 100%|██████████| 7/7 [00:05<00:00,  1.20it/s]                   \n",
      "Extracting data: 100%|██████████| 1/1 [00:14<00:00, 14.36s/it]\n",
      "Building [done]: 100%|██████████| 7/7 [00:03<00:00,  1.94it/s]                   \n",
      "Extracting data: 100%|██████████| 1/1 [00:11<00:00, 11.00s/it]\n",
      "Building [done]: 100%|██████████| 7/7 [00:01<00:00,  5.17it/s]                    \n",
      "Extracting data: 100%|██████████| 1/1 [00:15<00:00, 15.22s/it]\n",
      "Building [done]: 100%|██████████| 7/7 [00:02<00:00,  2.51it/s]                   \n",
      "Extracting data: 100%|██████████| 1/1 [00:08<00:00,  8.60s/it]\n",
      "Building [done]: 100%|██████████| 7/7 [00:02<00:00,  2.87it/s]                     \n",
      "Extracting data: 100%|██████████| 1/1 [00:08<00:00,  8.11s/it]\n",
      "Building [done]: 100%|██████████| 7/7 [00:02<00:00,  2.44it/s]                   \n",
      "Extracting data: 100%|██████████| 1/1 [00:17<00:00, 17.43s/it]\n",
      "Building [done]: 100%|██████████| 7/7 [00:01<00:00,  5.12it/s]                    \n",
      "Extracting data: 100%|██████████| 1/1 [00:11<00:00, 11.06s/it]\n",
      "Building [done]: 100%|██████████| 7/7 [00:02<00:00,  2.70it/s]                    \n",
      "Extracting data: 100%|██████████| 1/1 [00:08<00:00,  8.52s/it]\n",
      "Building [done]: 100%|██████████| 7/7 [00:02<00:00,  3.48it/s]                    \n",
      "Extracting data: 100%|██████████| 1/1 [00:15<00:00, 15.41s/it]\n",
      "Building [done]: 100%|██████████| 7/7 [00:02<00:00,  3.19it/s]                   \n",
      "Extracting data: 100%|██████████| 1/1 [00:11<00:00, 11.50s/it]\n",
      "Building [done]: 100%|██████████| 7/7 [00:02<00:00,  2.35it/s]                   \n",
      "Extracting data: 100%|██████████| 1/1 [00:11<00:00, 11.20s/it]\n",
      "Building [done]: 100%|██████████| 7/7 [00:01<00:00,  5.61it/s]                    \n",
      "Extracting data: 100%|██████████| 1/1 [00:14<00:00, 14.67s/it]\n",
      "Building [done]: 100%|██████████| 7/7 [00:03<00:00,  2.27it/s]                   \n",
      "Extracting data: 100%|██████████| 1/1 [00:17<00:00, 17.37s/it]\n",
      "Building [done]: 100%|██████████| 7/7 [00:02<00:00,  2.97it/s]                   \n",
      "Extracting data: 100%|██████████| 1/1 [00:13<00:00, 13.35s/it]\n",
      "Building [done]: 100%|██████████| 7/7 [00:02<00:00,  3.39it/s]                   \n",
      "Extracting data: 100%|██████████| 1/1 [00:14<00:00, 14.72s/it]\n",
      "Building [done]: 100%|██████████| 7/7 [00:02<00:00,  2.63it/s]                     \n",
      "Extracting data: 100%|██████████| 1/1 [00:10<00:00, 10.43s/it]\n",
      "Building [done]: 100%|██████████| 7/7 [00:01<00:00,  6.72it/s]                    \n",
      "Extracting data: 100%|██████████| 1/1 [00:11<00:00, 11.98s/it]\n",
      "Building [done]: 100%|██████████| 7/7 [00:02<00:00,  2.48it/s]                   \n",
      "Extracting data: 100%|██████████| 1/1 [00:09<00:00,  9.82s/it]\n",
      "Building [done]: 100%|██████████| 7/7 [00:01<00:00,  6.04it/s]                    \n",
      "Extracting data: 100%|██████████| 1/1 [00:18<00:00, 18.55s/it]\n",
      "Building [done]: 100%|██████████| 7/7 [00:01<00:00,  5.07it/s]                    \n",
      "Extracting data: 100%|██████████| 1/1 [00:12<00:00, 12.17s/it]\n",
      "Building [done]: 100%|██████████| 7/7 [00:03<00:00,  2.25it/s]                   \n",
      "Extracting data: 100%|██████████| 1/1 [00:15<00:00, 15.07s/it]\n",
      "Building [done]: 100%|██████████| 7/7 [00:01<00:00,  4.93it/s]                    \n",
      "Extracting data: 100%|██████████| 1/1 [00:10<00:00, 10.86s/it]\n",
      "Building [done]: 100%|██████████| 7/7 [00:02<00:00,  3.37it/s]                    \n",
      "Extracting data: 100%|██████████| 1/1 [00:13<00:00, 13.87s/it]\n",
      "Building [done]: 100%|██████████| 7/7 [00:02<00:00,  2.89it/s]                     \n",
      "Extracting data: 100%|██████████| 1/1 [00:13<00:00, 13.22s/it]\n",
      "Building [done]: 100%|██████████| 7/7 [00:02<00:00,  2.88it/s]                   \n",
      "Extracting data: 100%|██████████| 1/1 [00:13<00:00, 13.44s/it]\n",
      "Building [done]: 100%|██████████| 7/7 [00:02<00:00,  3.02it/s]                   \n",
      "Extracting data: 100%|██████████| 1/1 [00:11<00:00, 11.79s/it]\n",
      "Building [done]: 100%|██████████| 7/7 [00:01<00:00,  4.05it/s]                    \n",
      "Extracting data: 100%|██████████| 1/1 [00:13<00:00, 13.45s/it]\n",
      "Building [done]: 100%|██████████| 7/7 [00:01<00:00,  4.85it/s]                    \n",
      "Extracting data: 100%|██████████| 1/1 [00:12<00:00, 12.15s/it]\n",
      "Building [done]: 100%|██████████| 7/7 [00:02<00:00,  2.46it/s]                   \n",
      "Extracting data: 100%|██████████| 1/1 [00:15<00:00, 15.91s/it]\n",
      "Building [done]: 100%|██████████| 7/7 [00:02<00:00,  3.21it/s]                   \n",
      "Extracting data: 100%|██████████| 1/1 [00:20<00:00, 20.62s/it]\n",
      "Building [done]: 100%|██████████| 7/7 [00:03<00:00,  1.89it/s]                   \n",
      "Extracting data: 100%|██████████| 1/1 [00:12<00:00, 12.73s/it]\n",
      "Building [done]: 100%|██████████| 7/7 [00:02<00:00,  2.43it/s]                   \n",
      "Extracting data: 100%|██████████| 1/1 [00:14<00:00, 14.60s/it]\n",
      "Building [done]: 100%|██████████| 7/7 [00:06<00:00,  1.04it/s]                   \n",
      "Extracting data: 100%|██████████| 1/1 [00:12<00:00, 12.15s/it]\n",
      "Building [done]: 100%|██████████| 7/7 [00:01<00:00,  4.73it/s]                    \n",
      "Extracting data: 100%|██████████| 1/1 [00:15<00:00, 15.68s/it]\n",
      "Building [done]: 100%|██████████| 7/7 [00:01<00:00,  6.87it/s]                    \n",
      "Extracting data: 100%|██████████| 1/1 [00:13<00:00, 13.55s/it]\n",
      "Building [done]: 100%|██████████| 7/7 [00:03<00:00,  2.06it/s]                   \n",
      "Extracting data: 100%|██████████| 1/1 [00:11<00:00, 11.98s/it]\n",
      "Building [done]: 100%|██████████| 7/7 [00:03<00:00,  2.06it/s]                   \n",
      "Extracting data: 100%|██████████| 1/1 [00:15<00:00, 15.60s/it]\n",
      "Building [done]: 100%|██████████| 7/7 [00:01<00:00,  5.04it/s]                    \n",
      "Extracting data: 100%|██████████| 1/1 [00:11<00:00, 11.49s/it]\n",
      "Building [done]: 100%|██████████| 7/7 [00:01<00:00,  3.95it/s]                    \n",
      "Extracting data: 100%|██████████| 1/1 [00:17<00:00, 17.99s/it]\n",
      "Building [done]: 100%|██████████| 7/7 [00:02<00:00,  2.49it/s]                   \n",
      "Extracting data: 100%|██████████| 1/1 [00:12<00:00, 12.26s/it]\n",
      "Building [done]: 100%|██████████| 7/7 [00:03<00:00,  2.20it/s]                   \n",
      "Extracting data: 100%|██████████| 1/1 [00:09<00:00,  9.08s/it]\n",
      "Building [done]: 100%|██████████| 7/7 [00:04<00:00,  1.60it/s]                   \n",
      "Extracting data: 100%|██████████| 1/1 [00:13<00:00, 13.99s/it]\n",
      "Building [done]: 100%|██████████| 7/7 [00:01<00:00,  3.64it/s]                   \n",
      "Extracting data: 100%|██████████| 1/1 [00:14<00:00, 14.79s/it]\n",
      "Building [done]: 100%|██████████| 7/7 [00:03<00:00,  2.14it/s]                   \n",
      "Extracting data: 100%|██████████| 1/1 [00:08<00:00,  8.31s/it]\n",
      "Building [done]: 100%|██████████| 7/7 [00:02<00:00,  3.08it/s]                   \n",
      "Extracting data: 100%|██████████| 1/1 [00:11<00:00, 11.10s/it]\n",
      "Building [done]: 100%|██████████| 7/7 [00:01<00:00,  5.93it/s]                    \n",
      "Extracting data: 100%|██████████| 1/1 [00:09<00:00,  9.64s/it]\n",
      "Building [done]: 100%|██████████| 7/7 [00:02<00:00,  2.42it/s]                   \n",
      "Extracting data: 100%|██████████| 1/1 [00:13<00:00, 13.78s/it]\n",
      "Building [done]: 100%|██████████| 7/7 [00:03<00:00,  1.86it/s]                   \n",
      "Extracting data: 100%|██████████| 1/1 [00:15<00:00, 15.38s/it]\n",
      "Building [done]: 100%|██████████| 7/7 [00:04<00:00,  1.61it/s]                   \n",
      "Extracting data: 100%|██████████| 1/1 [00:08<00:00,  8.74s/it]\n",
      "Building [done]: 100%|██████████| 7/7 [00:02<00:00,  3.32it/s]                    \n",
      "Extracting data: 100%|██████████| 1/1 [00:09<00:00,  9.28s/it]\n",
      "Building [done]: 100%|██████████| 7/7 [00:00<00:00,  7.06it/s]                     \n",
      "Extracting data: 100%|██████████| 1/1 [00:14<00:00, 14.63s/it]\n",
      "Building [done]: 100%|██████████| 7/7 [00:03<00:00,  1.92it/s]                   \n",
      "Extracting data: 100%|██████████| 1/1 [00:14<00:00, 14.55s/it]\n",
      "Building [done]: 100%|██████████| 7/7 [00:01<00:00,  5.25it/s]                    \n",
      "Extracting data: 100%|██████████| 1/1 [00:14<00:00, 14.27s/it]\n",
      "Building [done]: 100%|██████████| 7/7 [00:01<00:00,  3.70it/s]                   \n",
      "Extracting data: 100%|██████████| 1/1 [00:14<00:00, 14.17s/it]\n",
      "Building [done]: 100%|██████████| 7/7 [00:02<00:00,  2.78it/s]                   \n",
      "Extracting data: 100%|██████████| 1/1 [00:32<00:00, 32.24s/it]\n",
      "Building [done]: 100%|██████████| 7/7 [00:02<00:00,  2.93it/s]                    \n",
      "Extracting data: 100%|██████████| 1/1 [00:16<00:00, 16.28s/it]\n",
      "Building [done]: 100%|██████████| 7/7 [00:01<00:00,  4.37it/s]                    \n",
      "Extracting data: 100%|██████████| 1/1 [00:20<00:00, 20.71s/it]\n",
      "Building [done]: 100%|██████████| 7/7 [00:05<00:00,  1.20it/s]                   \n",
      "Extracting data: 100%|██████████| 1/1 [00:15<00:00, 15.19s/it]\n",
      "Building [done]: 100%|██████████| 7/7 [00:02<00:00,  3.18it/s]                    \n",
      "Extracting data: 100%|██████████| 1/1 [00:12<00:00, 12.43s/it]\n",
      "Building [done]: 100%|██████████| 7/7 [00:01<00:00,  6.13it/s]                    \n",
      "Extracting data: 100%|██████████| 1/1 [00:13<00:00, 13.79s/it]\n",
      "Building [done]: 100%|██████████| 7/7 [00:04<00:00,  1.65it/s]                   \n",
      "Extracting data: 100%|██████████| 1/1 [00:16<00:00, 16.77s/it]\n",
      "Building [done]: 100%|██████████| 7/7 [00:05<00:00,  1.37it/s]                   \n",
      "Extracting data: 100%|██████████| 1/1 [00:13<00:00, 14.00s/it]\n",
      "Building [done]: 100%|██████████| 7/7 [00:03<00:00,  1.89it/s]                   \n",
      "Extracting data: 100%|██████████| 1/1 [00:12<00:00, 12.86s/it]\n",
      "Building [done]: 100%|██████████| 7/7 [00:03<00:00,  2.01it/s]                   \n",
      "Extracting data: 100%|██████████| 1/1 [00:15<00:00, 15.02s/it]\n",
      "Building [done]: 100%|██████████| 7/7 [00:04<00:00,  1.67it/s]                   \n",
      "Extracting data: 100%|██████████| 1/1 [00:09<00:00,  9.73s/it]\n",
      "Building [done]: 100%|██████████| 7/7 [00:02<00:00,  3.50it/s]                    \n",
      "Extracting data: 100%|██████████| 1/1 [00:10<00:00, 10.24s/it]\n",
      "Building [done]: 100%|██████████| 7/7 [00:03<00:00,  1.84it/s]                   \n",
      "Extracting data: 100%|██████████| 1/1 [00:11<00:00, 11.06s/it]\n",
      "Building [done]: 100%|██████████| 7/7 [00:03<00:00,  1.90it/s]                   \n"
     ]
    }
   ],
   "source": [
    "import pandas as pd\n",
    "\n",
    "df = pd.read_csv(\"rate_plan.csv\")\n",
    "\n",
    "# 마크다운\n",
    "structured_texts = []\n",
    "for _, row in df.iterrows():\n",
    "    text = f\"\"\"\n",
    "    통신사: {row['telecom']}\n",
    "    요금제명: {row['product_name']}\n",
    "    설명: {row['description']}\n",
    "    네트워크: {row['mobile_generation']}\n",
    "    기본 가격: {row['origin_price']}\n",
    "    월 할인: {row['monthly_discount_price']}\n",
    "    데이터: {row['data_amount']}\n",
    "    데이터 공유: {row['sharing_data_amount']}\n",
    "    속도 제한: {row['speed_after_data_consumption']}\n",
    "    영상통화: {row['video_call_amount']}\n",
    "    음성통화: {row['voice_amount']}\n",
    "    메시지: {row['message_amount']}\n",
    "    추가혜택: {row['additional_benefit']}\n",
    "    \"\"\"\n",
    "    structured_texts.append(text)\n",
    "\n",
    "# 데이터 삽입\n",
    "for text in structured_texts:\n",
    "    telecom_rag.insert(text)"
   ]
  },
  {
   "cell_type": "code",
   "execution_count": 16,
   "id": "d8ca45ef",
   "metadata": {},
   "outputs": [],
   "source": [
    "def process_query(user_query):\n",
    "    # 사용자 질의 처리\n",
    "    response = telecom_rag.query(user_query)\n",
    "    \n",
    "    # 결과 출력\n",
    "    print(\"질문:\", user_query)\n",
    "    print(\"\\n답변:\")\n",
    "    print(response.response)\n",
    "    \n",
    "    return response.response\n"
   ]
  },
  {
   "cell_type": "code",
   "execution_count": 14,
   "id": "90224c08",
   "metadata": {},
   "outputs": [
    {
     "name": "stdout",
     "output_type": "stream",
     "text": [
      "질문: 시니어 요금제 추천\n",
      "\n",
      "답변:\n",
      "추천할 만한 시니어 요금제는 다음과 같습니다:\n",
      "\n",
      "1. **5G 시니어 A형**: 월 데이터 10GB 제공, 무제한 음성통화, 400분 영상통화, 기본 메시지 서비스 포함. 기본 가격은 45,000원입니다. \n",
      "\n",
      "2. **5G 시니어 B형**: 월 데이터 9GB 제공, 무제한 음성통화, 400분 영상통화, 기본 메시지 서비스 포함. 기본 가격은 44,000원입니다. \n",
      "\n",
      "이 두 요금제는 65세 이상 고객을 위한 전용 요금제로, 5G 네트워크를 사용하며 다양한 혜택이 있습니다.\n"
     ]
    },
    {
     "data": {
      "text/plain": [
       "'추천할 만한 시니어 요금제는 다음과 같습니다:\\n\\n1. **5G 시니어 A형**: 월 데이터 10GB 제공, 무제한 음성통화, 400분 영상통화, 기본 메시지 서비스 포함. 기본 가격은 45,000원입니다. \\n\\n2. **5G 시니어 B형**: 월 데이터 9GB 제공, 무제한 음성통화, 400분 영상통화, 기본 메시지 서비스 포함. 기본 가격은 44,000원입니다. \\n\\n이 두 요금제는 65세 이상 고객을 위한 전용 요금제로, 5G 네트워크를 사용하며 다양한 혜택이 있습니다.'"
      ]
     },
     "execution_count": 14,
     "metadata": {},
     "output_type": "execute_result"
    }
   ],
   "source": [
    "process_query(\"시니어 요금제 추천\")"
   ]
  },
  {
   "cell_type": "code",
   "execution_count": 15,
   "id": "c3c618f5",
   "metadata": {},
   "outputs": [
    {
     "name": "stdout",
     "output_type": "stream",
     "text": [
      "질문: 31살이 가입할 수 있는 스마트기기 할인 가능한 SKT 요금제 추천\n",
      "\n",
      "답변:\n",
      "추천할 수 있는 SKT 요금제는 '0 청년 109(스마트 기기)'입니다. 이 요금제는 만 19세 이상 34세 이하 개인고객이 가입할 수 있으며, 무제한 데이터와 스마트 기기 할인 혜택이 포함되어 있습니다.\n"
     ]
    },
    {
     "data": {
      "text/plain": [
       "\"추천할 수 있는 SKT 요금제는 '0 청년 109(스마트 기기)'입니다. 이 요금제는 만 19세 이상 34세 이하 개인고객이 가입할 수 있으며, 무제한 데이터와 스마트 기기 할인 혜택이 포함되어 있습니다.\""
      ]
     },
     "execution_count": 15,
     "metadata": {},
     "output_type": "execute_result"
    }
   ],
   "source": [
    "process_query(\"31살이 가입할 수 있는 스마트기기 할인 가능한 SKT 요금제 추천\")"
   ]
  },
  {
   "cell_type": "code",
   "execution_count": 17,
   "id": "7c15a4ba",
   "metadata": {},
   "outputs": [
    {
     "name": "stdout",
     "output_type": "stream",
     "text": [
      "질문: 31살이 가입할 수 있는 가장 저렴한 LG U+ 요금제\n",
      "\n",
      "답변:\n",
      "The most affordable LG U+ plan available for a 31-year-old is the '유쓰 5G 다이렉트 30' plan, which offers 10GB of data, unlimited voice calls, and basic messaging services, priced at 30,000 won after a monthly discount.\n"
     ]
    },
    {
     "data": {
      "text/plain": [
       "\"The most affordable LG U+ plan available for a 31-year-old is the '유쓰 5G 다이렉트 30' plan, which offers 10GB of data, unlimited voice calls, and basic messaging services, priced at 30,000 won after a monthly discount.\""
      ]
     },
     "execution_count": 17,
     "metadata": {},
     "output_type": "execute_result"
    }
   ],
   "source": [
    "process_query(\"31살이 가입할 수 있는 가장 저렴한 LG U+ 요금제\")"
   ]
  },
  {
   "cell_type": "code",
   "execution_count": 19,
   "id": "8263f66f",
   "metadata": {},
   "outputs": [
    {
     "name": "stdout",
     "output_type": "stream",
     "text": [
      "질문: 31살이 가입할 수 있는 가장 저렴한 LG U+ 요금제와 SKT 요금제를 한국어로 비교해줘\n",
      "\n",
      "답변:\n",
      "31살이 가입할 수 있는 가장 저렴한 LG U+ 요금제는 유쓰 5G 다이렉트 46으로, 온라인 전용 요금제입니다. SKT에서 가입할 수 있는 가장 저렴한 요금제는 0 청년 43으로, 이 요금제는 월 8GB 데이터와 다양한 청년 특화 혜택을 제공합니다. 가격은 SKT의 0 청년 43이 약 43,000원이지만, LG U+의 요금제 가격은 제공되지 않아 비교할 수 없습니다.\n"
     ]
    },
    {
     "data": {
      "text/plain": [
       "'31살이 가입할 수 있는 가장 저렴한 LG U+ 요금제는 유쓰 5G 다이렉트 46으로, 온라인 전용 요금제입니다. SKT에서 가입할 수 있는 가장 저렴한 요금제는 0 청년 43으로, 이 요금제는 월 8GB 데이터와 다양한 청년 특화 혜택을 제공합니다. 가격은 SKT의 0 청년 43이 약 43,000원이지만, LG U+의 요금제 가격은 제공되지 않아 비교할 수 없습니다.'"
      ]
     },
     "execution_count": 19,
     "metadata": {},
     "output_type": "execute_result"
    }
   ],
   "source": [
    "process_query(\"31살이 가입할 수 있는 가장 저렴한 LG U+ 요금제와 SKT 요금제를 한국어로 비교해줘\")"
   ]
  },
  {
   "cell_type": "code",
   "execution_count": 21,
   "id": "37d8b084",
   "metadata": {},
   "outputs": [
    {
     "name": "stdout",
     "output_type": "stream",
     "text": [
      "질문: 청년 요금제 중 넷플릭스나 유튜브 가입 가능한 요금제를 한국어로 비교해줘\n",
      "\n",
      "답변:\n",
      "청년 요금제 중에서 넷플릭스나 유튜브 가입이 가능한 요금제는 다음과 같습니다: \n",
      "\n",
      "1. **0 청년 99(넷플릭스)**  \n",
      "   - 설명: 무제한 데이터와 넷플릭스 멤버십을 제공하는 요금제로, 만 19세 이상 34세 이하 개인 고객이 가입 가능.  \n",
      "   - 데이터: 무제한  \n",
      "   - 추가 혜택: T멤버십 VIP, 태블릿/스마트워치 요금 할인, 0청년 영화할인, 0청년 로밍할인, 0청년 커피할인.  \n",
      "\n",
      "2. **0 청년 다이렉트 62(넷플릭스)**  \n",
      "   - 설명: 무제한 데이터와 넷플릭스 멤버십을 제공하는 온라인 전용 무약정 요금제로, 만 19세 이상 34세 이하 개인 고객이 가입 가능.  \n",
      "   - 데이터: 무제한  \n",
      "   - 추가 혜택: T멤버십 VIP, 태블릿/스마트워치 요금 할인, 0청년 영화할인, 0청년 로밍할인, 0청년 커피할인.  \n",
      "\n",
      "3. **0 청년 109(유튜브 프리미엄)**  \n",
      "   - 설명: 무제한 데이터와 유튜브 프리미엄 멤버십을 제공하는 요금제로, 만 19세 이상 34세 이하 개인 고객이 가입 가능.  \n",
      "   - 데이터: 무제한  \n",
      "   - 추가 혜택: T멤버십 VIP, 태블릿/스마트워치 요금 할인, 0청년 영화할인, 0청년 로밍할인, 0청년 커피할인.\n"
     ]
    },
    {
     "data": {
      "text/plain": [
       "'청년 요금제 중에서 넷플릭스나 유튜브 가입이 가능한 요금제는 다음과 같습니다: \\n\\n1. **0 청년 99(넷플릭스)**  \\n   - 설명: 무제한 데이터와 넷플릭스 멤버십을 제공하는 요금제로, 만 19세 이상 34세 이하 개인 고객이 가입 가능.  \\n   - 데이터: 무제한  \\n   - 추가 혜택: T멤버십 VIP, 태블릿/스마트워치 요금 할인, 0청년 영화할인, 0청년 로밍할인, 0청년 커피할인.  \\n\\n2. **0 청년 다이렉트 62(넷플릭스)**  \\n   - 설명: 무제한 데이터와 넷플릭스 멤버십을 제공하는 온라인 전용 무약정 요금제로, 만 19세 이상 34세 이하 개인 고객이 가입 가능.  \\n   - 데이터: 무제한  \\n   - 추가 혜택: T멤버십 VIP, 태블릿/스마트워치 요금 할인, 0청년 영화할인, 0청년 로밍할인, 0청년 커피할인.  \\n\\n3. **0 청년 109(유튜브 프리미엄)**  \\n   - 설명: 무제한 데이터와 유튜브 프리미엄 멤버십을 제공하는 요금제로, 만 19세 이상 34세 이하 개인 고객이 가입 가능.  \\n   - 데이터: 무제한  \\n   - 추가 혜택: T멤버십 VIP, 태블릿/스마트워치 요금 할인, 0청년 영화할인, 0청년 로밍할인, 0청년 커피할인.'"
      ]
     },
     "execution_count": 21,
     "metadata": {},
     "output_type": "execute_result"
    }
   ],
   "source": [
    "process_query(\"청년 요금제 중 넷플릭스나 유튜브 가입 가능한 요금제를 한국어로 비교해줘\")"
   ]
  },
  {
   "cell_type": "code",
   "execution_count": 26,
   "id": "5d499fe4",
   "metadata": {},
   "outputs": [
    {
     "name": "stdout",
     "output_type": "stream",
     "text": [
      "질문: LG U+ 요금제와 KT 요금제의 청년 요금제 중 데이터 무제한 요금제 비교(한국어로)\n",
      "\n",
      "답변:\n",
      "KT의 데이터 무제한 요금제는 주로 5G Y 베이직 요금제로, 이 요금제는 무제한 데이터와 기본 음성 및 메시지 서비스가 포함되어 있습니다. 기본 가격은 80,000원이며, 월 할인은 60,000원으로, 사용자에게 300분의 영상통화를 제공합니다. 또한, 데이터 공유는 40GB까지 가능합니다.\n",
      "\n",
      "LG U+의 데이터 무제한 청년 요금제는 유쓰 5G 데이터 플러스입니다. 이 요금제는 청년 고객을 대상으로 한 5G 요금제로, 무제한 데이터가 제공되며, 세부적인 가격정보나 추가 혜택은 명시되어 있지 않습니다. \n",
      "\n",
      "결론적으로, 두 요금제 모두 데이터 무제한을 제공하나, KT 요금제는 더 상세한 가격과 혜택이 공개되어 있습니다.\n"
     ]
    },
    {
     "data": {
      "text/plain": [
       "'KT의 데이터 무제한 요금제는 주로 5G Y 베이직 요금제로, 이 요금제는 무제한 데이터와 기본 음성 및 메시지 서비스가 포함되어 있습니다. 기본 가격은 80,000원이며, 월 할인은 60,000원으로, 사용자에게 300분의 영상통화를 제공합니다. 또한, 데이터 공유는 40GB까지 가능합니다.\\n\\nLG U+의 데이터 무제한 청년 요금제는 유쓰 5G 데이터 플러스입니다. 이 요금제는 청년 고객을 대상으로 한 5G 요금제로, 무제한 데이터가 제공되며, 세부적인 가격정보나 추가 혜택은 명시되어 있지 않습니다. \\n\\n결론적으로, 두 요금제 모두 데이터 무제한을 제공하나, KT 요금제는 더 상세한 가격과 혜택이 공개되어 있습니다.'"
      ]
     },
     "execution_count": 26,
     "metadata": {},
     "output_type": "execute_result"
    }
   ],
   "source": [
    "process_query(\"LG U+ 요금제와 KT 요금제의 청년 요금제 중 데이터 무제한 요금제 비교(한국어로)\")"
   ]
  },
  {
   "cell_type": "code",
   "execution_count": null,
   "id": "d53ae522",
   "metadata": {},
   "outputs": [],
   "source": []
  }
 ],
 "metadata": {
  "kernelspec": {
   "display_name": "venv",
   "language": "python",
   "name": "python3"
  },
  "language_info": {
   "codemirror_mode": {
    "name": "ipython",
    "version": 3
   },
   "file_extension": ".py",
   "mimetype": "text/x-python",
   "name": "python",
   "nbconvert_exporter": "python",
   "pygments_lexer": "ipython3",
   "version": "3.12.3"
  }
 },
 "nbformat": 4,
 "nbformat_minor": 5
}
