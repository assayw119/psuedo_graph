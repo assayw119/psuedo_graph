{
 "cells": [
  {
   "cell_type": "code",
   "execution_count": 4,
   "metadata": {},
   "outputs": [],
   "source": [
    "from langchain_neo4j import GraphCypherQAChain, Neo4jGraph\n",
    "from dotenv import load_dotenv\n",
    "import os"
   ]
  },
  {
   "cell_type": "code",
   "execution_count": 49,
   "metadata": {},
   "outputs": [],
   "source": [
    "load_dotenv()\n",
    "\n",
    "NEO4J_URI = os.getenv(\"NEO4J_URI\")\n",
    "NEO4J_USERNAME = os.getenv(\"NEO4J_USERNAME\")\n",
    "NEO4J_PASSWORD = os.getenv(\"NEO4J_PASSWORD\")\n",
    "# NEO4J_DATABASE = os.getenv(\"NEO4J_DATABASE\")\n",
    "\n",
    "# graph = Neo4jGraph(url=\"bolt://localhost:7687\", username=\"neo4j\", password=\"s!26158409\", enhanced_schema=True)\n",
    "\n",
    "graph = Neo4jGraph(\n",
    "    url=\"bolt://localhost:7687\",\n",
    "    username=\"neo4j\",\n",
    "    password=\"rateplan\",\n",
    "    database=\"dbtest\",\n",
    "    enhanced_schema=True\n",
    ")"
   ]
  },
  {
   "cell_type": "code",
   "execution_count": 45,
   "metadata": {},
   "outputs": [
    {
     "data": {
      "text/plain": [
       "[]"
      ]
     },
     "execution_count": 45,
     "metadata": {},
     "output_type": "execute_result"
    }
   ],
   "source": [
    "graph.query(\"\"\"\n",
    "            MATCH (n)\n",
    "            DETACH DELETE n\n",
    "            \"\"\")"
   ]
  },
  {
   "cell_type": "code",
   "execution_count": 47,
   "metadata": {},
   "outputs": [
    {
     "name": "stderr",
     "output_type": "stream",
     "text": [
      "  4%|▎         | 4/109 [00:00<00:20,  5.12it/s]"
     ]
    },
    {
     "name": "stdout",
     "output_type": "stream",
     "text": [
      "[{'rate_plan.name': '5G Y 스페셜', 'mobile_generation.name': '5G', 'telecom.name': 'KT', 'rate_plan.origin_price': 100000}]\n",
      "[{'rate_plan.name': '5G Y 베이직', 'mobile_generation.name': '5G', 'telecom.name': 'KT', 'rate_plan.origin_price': 80000}]\n",
      "[{'rate_plan.name': '5G Y 슬림 14GB', 'mobile_generation.name': '5G', 'telecom.name': 'KT', 'rate_plan.origin_price': 55000}]\n",
      "[{'rate_plan.name': 'Y데이터ON 프리미엄', 'mobile_generation.name': 'LTE', 'telecom.name': 'KT', 'rate_plan.origin_price': 89000}]\n",
      "[{'rate_plan.name': 'Y데이터ON 비디오 플러스', 'mobile_generation.name': 'LTE', 'telecom.name': 'KT', 'rate_plan.origin_price': 69000}]\n",
      "[{'rate_plan.name': 'Y 베이직', 'mobile_generation.name': 'LTE', 'telecom.name': 'KT', 'rate_plan.origin_price': 33000}]\n"
     ]
    },
    {
     "name": "stderr",
     "output_type": "stream",
     "text": [
      " 10%|█         | 11/109 [00:01<00:06, 14.22it/s]"
     ]
    },
    {
     "name": "stdout",
     "output_type": "stream",
     "text": [
      "[{'rate_plan.name': '5G 시니어 베이직', 'mobile_generation.name': '5G', 'telecom.name': 'KT', 'rate_plan.origin_price': 49000}]\n",
      "[{'rate_plan.name': '5G 시니어 A형', 'mobile_generation.name': '5G', 'telecom.name': 'KT', 'rate_plan.origin_price': 44000}]\n",
      "[{'rate_plan.name': '5G 시니어 B형', 'mobile_generation.name': '5G', 'telecom.name': 'KT', 'rate_plan.origin_price': 42000}]\n",
      "[{'rate_plan.name': '5G 시니어 C형', 'mobile_generation.name': '5G', 'telecom.name': 'KT', 'rate_plan.origin_price': 41000}]\n",
      "[{'rate_plan.name': '시니어 베이직', 'mobile_generation.name': 'LTE', 'telecom.name': 'KT', 'rate_plan.origin_price': 33000}]\n",
      "[{'rate_plan.name': 'LTE-골든150', 'mobile_generation.name': 'LTE', 'telecom.name': 'KT', 'rate_plan.origin_price': 16500}]\n",
      "[{'rate_plan.name': '순 골든20', 'mobile_generation.name': 'LTE', 'telecom.name': 'KT', 'rate_plan.origin_price': 22000}]\n",
      "[{'rate_plan.name': '효(3G)', 'mobile_generation.name': '3G', 'telecom.name': 'KT', 'rate_plan.origin_price': 9680}]\n",
      "[{'rate_plan.name': '골든스마트150', 'mobile_generation.name': '3G', 'telecom.name': 'KT', 'rate_plan.origin_price': 16500}]\n"
     ]
    },
    {
     "name": "stderr",
     "output_type": "stream",
     "text": [
      " 18%|█▊        | 20/109 [00:01<00:03, 22.28it/s]"
     ]
    },
    {
     "name": "stdout",
     "output_type": "stream",
     "text": [
      "[{'rate_plan.name': 'Y 군인77 Plus', 'mobile_generation.name': 'LTE', 'telecom.name': 'KT', 'rate_plan.origin_price': 77000}]\n",
      "[{'rate_plan.name': 'Y 군인55 Plus', 'mobile_generation.name': 'LTE', 'telecom.name': 'KT', 'rate_plan.origin_price': 55000}]\n",
      "[{'rate_plan.name': 'Y 군인33', 'mobile_generation.name': 'LTE', 'telecom.name': 'KT', 'rate_plan.origin_price': 33000}]\n",
      "[{'rate_plan.name': '0 청년 109(유튜브 프리미엄)', 'mobile_generation.name': '5G', 'telecom.name': 'SKT', 'rate_plan.origin_price': 109000}]\n",
      "[{'rate_plan.name': '0 청년 109(넷플릭스)', 'mobile_generation.name': '5G', 'telecom.name': 'SKT', 'rate_plan.origin_price': 109000}]\n",
      "[{'rate_plan.name': '0 청년 99(넷플릭스)', 'mobile_generation.name': '5G', 'telecom.name': 'SKT', 'rate_plan.origin_price': 99000}]\n",
      "[{'rate_plan.name': '0 청년 89(넷플릭스)', 'mobile_generation.name': '5G', 'telecom.name': 'SKT', 'rate_plan.origin_price': 89000}]\n"
     ]
    },
    {
     "name": "stderr",
     "output_type": "stream",
     "text": [
      " 28%|██▊       | 30/109 [00:01<00:02, 31.80it/s]"
     ]
    },
    {
     "name": "stdout",
     "output_type": "stream",
     "text": [
      "[{'rate_plan.name': '0 청년 다이렉트 69(넷플릭스)', 'mobile_generation.name': '5G', 'telecom.name': 'SKT', 'rate_plan.origin_price': 69000}]\n",
      "[{'rate_plan.name': '0 청년 다이렉트 62(넷플릭스)', 'mobile_generation.name': '5G', 'telecom.name': 'SKT', 'rate_plan.origin_price': 62000}]\n",
      "[{'rate_plan.name': '0 청년 109(디즈니 +)', 'mobile_generation.name': '5G', 'telecom.name': 'SKT', 'rate_plan.origin_price': 109000}]\n",
      "[{'rate_plan.name': '0 청년 99(디즈니 +)', 'mobile_generation.name': '5G', 'telecom.name': 'SKT', 'rate_plan.origin_price': 99000}]\n",
      "[{'rate_plan.name': '0 청년 다이렉트 69(디즈니 +)', 'mobile_generation.name': '5G', 'telecom.name': 'SKT', 'rate_plan.origin_price': 69000}]\n",
      "[{'rate_plan.name': '0 청년 109(스마트 기기)', 'mobile_generation.name': '5G', 'telecom.name': 'SKT', 'rate_plan.origin_price': 109000}]\n",
      "[{'rate_plan.name': '0 청년 109(T 우주)', 'mobile_generation.name': '5G', 'telecom.name': 'SKT', 'rate_plan.origin_price': 109000}]\n",
      "[{'rate_plan.name': '0 청년 99(T 우주)', 'mobile_generation.name': '5G', 'telecom.name': 'SKT', 'rate_plan.origin_price': 99000}]\n",
      "[{'rate_plan.name': '0 청년 89', 'mobile_generation.name': '5G', 'telecom.name': 'SKT', 'rate_plan.origin_price': 89000}]\n",
      "[{'rate_plan.name': '0 청년 79', 'mobile_generation.name': '5G', 'telecom.name': 'SKT', 'rate_plan.origin_price': 79000}]\n"
     ]
    },
    {
     "name": "stderr",
     "output_type": "stream",
     "text": [
      " 38%|███▊      | 41/109 [00:01<00:01, 38.46it/s]"
     ]
    },
    {
     "name": "stdout",
     "output_type": "stream",
     "text": [
      "[{'rate_plan.name': '0 청년 69', 'mobile_generation.name': '5G', 'telecom.name': 'SKT', 'rate_plan.origin_price': 69000}]\n",
      "[{'rate_plan.name': '0 청년 59 100GB 업', 'mobile_generation.name': '5G', 'telecom.name': 'SKT', 'rate_plan.origin_price': 68000}]\n",
      "[{'rate_plan.name': '0 청년 59 60GB 업', 'mobile_generation.name': '5G', 'telecom.name': 'SKT', 'rate_plan.origin_price': 66000}]\n",
      "[{'rate_plan.name': '0 청년 59 36GB 업', 'mobile_generation.name': '5G', 'telecom.name': 'SKT', 'rate_plan.origin_price': 64000}]\n",
      "[{'rate_plan.name': '0 청년 59 15GB 업', 'mobile_generation.name': '5G', 'telecom.name': 'SKT', 'rate_plan.origin_price': 62000}]\n",
      "[{'rate_plan.name': '0 청년 59', 'mobile_generation.name': '5G', 'telecom.name': 'SKT', 'rate_plan.origin_price': 59000}]\n",
      "[{'rate_plan.name': '0 청년 49', 'mobile_generation.name': '5G', 'telecom.name': 'SKT', 'rate_plan.origin_price': 49000}]\n",
      "[{'rate_plan.name': '0 청년 43', 'mobile_generation.name': '5G', 'telecom.name': 'SKT', 'rate_plan.origin_price': 43000}]\n",
      "[{'rate_plan.name': '0 청년 37', 'mobile_generation.name': '5G', 'telecom.name': 'SKT', 'rate_plan.origin_price': 37000}]\n",
      "[{'rate_plan.name': '0 청년 다이렉트 69(T 우주)', 'mobile_generation.name': '5G', 'telecom.name': 'SKT', 'rate_plan.origin_price': 69000}]\n"
     ]
    },
    {
     "name": "stderr",
     "output_type": "stream",
     "text": [
      " 47%|████▋     | 51/109 [00:02<00:01, 41.31it/s]"
     ]
    },
    {
     "name": "stdout",
     "output_type": "stream",
     "text": [
      "[{'rate_plan.name': '0 청년 다이렉트 62', 'mobile_generation.name': '5G', 'telecom.name': 'SKT', 'rate_plan.origin_price': 62000}]\n",
      "[{'rate_plan.name': '0 청년 다이렉트 55', 'mobile_generation.name': '5G', 'telecom.name': 'SKT', 'rate_plan.origin_price': 55000}]\n",
      "[{'rate_plan.name': '0 청년 다이렉트 48', 'mobile_generation.name': '5G', 'telecom.name': 'SKT', 'rate_plan.origin_price': 48000}]\n",
      "[{'rate_plan.name': '0 청년 다이렉트 42', 'mobile_generation.name': '5G', 'telecom.name': 'SKT', 'rate_plan.origin_price': 42000}]\n",
      "[{'rate_plan.name': '0 청년 다이렉트 34', 'mobile_generation.name': '5G', 'telecom.name': 'SKT', 'rate_plan.origin_price': 34000}]\n",
      "[{'rate_plan.name': '0 청년 다이렉트 30', 'mobile_generation.name': '5G', 'telecom.name': 'SKT', 'rate_plan.origin_price': 30000}]\n",
      "[{'rate_plan.name': '0 플랜 스몰', 'mobile_generation.name': 'LTE', 'telecom.name': 'SKT', 'rate_plan.origin_price': 33000}]\n",
      "[{'rate_plan.name': '0 플랜 슈퍼 히어로', 'mobile_generation.name': 'LTE', 'telecom.name': 'SKT', 'rate_plan.origin_price': 55000}]\n",
      "[{'rate_plan.name': '0 플랜 히어로', 'mobile_generation.name': 'LTE', 'telecom.name': 'SKT', 'rate_plan.origin_price': 33000}]\n"
     ]
    },
    {
     "name": "stderr",
     "output_type": "stream",
     "text": [
      " 51%|█████▏    | 56/109 [00:02<00:01, 41.68it/s]"
     ]
    },
    {
     "name": "stdout",
     "output_type": "stream",
     "text": [
      "[{'rate_plan.name': '0 틴 5G', 'mobile_generation.name': '5G', 'telecom.name': 'SKT', 'rate_plan.origin_price': 45000}]\n",
      "[{'rate_plan.name': '0 틴 플랜 스몰', 'mobile_generation.name': '5G', 'telecom.name': 'SKT', 'rate_plan.origin_price': 33000}]\n",
      "[{'rate_plan.name': '5G 시니어 A형', 'mobile_generation.name': '5G', 'telecom.name': 'SKT', 'rate_plan.origin_price': 45000}]\n",
      "[{'rate_plan.name': '5G 시니어 B형', 'mobile_generation.name': '5G', 'telecom.name': 'SKT', 'rate_plan.origin_price': 44000}]\n",
      "[{'rate_plan.name': '5G 시니어 C형', 'mobile_generation.name': '5G', 'telecom.name': 'SKT', 'rate_plan.origin_price': 42000}]\n",
      "[{'rate_plan.name': 'T 플랜 시니어 안심 2.8G', 'mobile_generation.name': 'LTE', 'telecom.name': 'SKT', 'rate_plan.origin_price': 43000}]\n",
      "[{'rate_plan.name': 'T 플랜 시니어 세이브', 'mobile_generation.name': 'LTE', 'telecom.name': 'SKT', 'rate_plan.origin_price': 33000}]\n",
      "[{'rate_plan.name': 'T끼리 어르신', 'mobile_generation.name': 'LTE', 'telecom.name': 'SKT', 'rate_plan.origin_price': 19800}]\n",
      "[{'rate_plan.name': '뉴 실버 요금제', 'mobile_generation.name': '3G', 'telecom.name': 'SKT', 'rate_plan.origin_price': 9900}]\n"
     ]
    },
    {
     "name": "stderr",
     "output_type": "stream",
     "text": [
      " 61%|██████▏   | 67/109 [00:02<00:00, 43.99it/s]"
     ]
    },
    {
     "name": "stdout",
     "output_type": "stream",
     "text": [
      "[{'rate_plan.name': '유쓰 5G 다이렉트 51(U+ 닷컴 전용)', 'mobile_generation.name': '5G', 'telecom.name': 'LGU', 'rate_plan.origin_price': 51000}]\n",
      "[{'rate_plan.name': '유쓰 5G 다이렉트 47.5(U+ 닷컴 전용)', 'mobile_generation.name': '5G', 'telecom.name': 'LGU', 'rate_plan.origin_price': 47500}]\n",
      "[{'rate_plan.name': '유쓰 5G 다이렉트 46(U+ 닷컴 전용)', 'mobile_generation.name': '5G', 'telecom.name': 'LGU', 'rate_plan.origin_price': 46000}]\n",
      "[{'rate_plan.name': '유쓰 5G 다이렉트 44(U+ 닷컴 전용)', 'mobile_generation.name': '5G', 'telecom.name': 'LGU', 'rate_plan.origin_price': 44000}]\n",
      "[{'rate_plan.name': '유쓰 5G 다이렉트 42(U+ 닷컴 전용)', 'mobile_generation.name': '5G', 'telecom.name': 'LGU', 'rate_plan.origin_price': 42000}]\n",
      "[{'rate_plan.name': '유쓰 5G 다이렉트 37.5(U+ 닷컴 전용)', 'mobile_generation.name': '5G', 'telecom.name': 'LGU', 'rate_plan.origin_price': 37500}]\n",
      "[{'rate_plan.name': '유쓰 5G 다이렉트 34(U+ 닷컴 전용)', 'mobile_generation.name': '5G', 'telecom.name': 'LGU', 'rate_plan.origin_price': 34000}]\n",
      "[{'rate_plan.name': '유쓰 5G 다이렉트 30(U+ 닷컴 전용)', 'mobile_generation.name': '5G', 'telecom.name': 'LGU', 'rate_plan.origin_price': 30000}]\n",
      "[{'rate_plan.name': '유쓰 5G 스탠다드', 'mobile_generation.name': '5G', 'telecom.name': 'LGU', 'rate_plan.origin_price': 75000}]\n",
      "[{'rate_plan.name': '유쓰 5G 스탠다드 에센셜', 'mobile_generation.name': '5G', 'telecom.name': 'LGU', 'rate_plan.origin_price': 70000}]\n",
      "[{'rate_plan.name': '유쓰 5G 데이터 슈퍼', 'mobile_generation.name': '5G', 'telecom.name': 'LGU', 'rate_plan.origin_price': 68000}]\n"
     ]
    },
    {
     "name": "stderr",
     "output_type": "stream",
     "text": [
      " 72%|███████▏  | 79/109 [00:02<00:00, 50.36it/s]"
     ]
    },
    {
     "name": "stdout",
     "output_type": "stream",
     "text": [
      "[{'rate_plan.name': '유쓰 5G 데이터 플러스', 'mobile_generation.name': '5G', 'telecom.name': 'LGU', 'rate_plan.origin_price': 66000}]\n",
      "[{'rate_plan.name': '유쓰 5G 데이터 레귤러', 'mobile_generation.name': '5G', 'telecom.name': 'LGU', 'rate_plan.origin_price': 63000}]\n",
      "[{'rate_plan.name': '유쓰 5G 심플+', 'mobile_generation.name': '5G', 'telecom.name': 'LGU', 'rate_plan.origin_price': 61000}]\n",
      "[{'rate_plan.name': '유쓰 5G 베이직+', 'mobile_generation.name': '5G', 'telecom.name': 'LGU', 'rate_plan.origin_price': 59000}]\n",
      "[{'rate_plan.name': '유쓰 5G 라이트+', 'mobile_generation.name': '5G', 'telecom.name': 'LGU', 'rate_plan.origin_price': 55000}]\n",
      "[{'rate_plan.name': '유쓰 5G 슬림+', 'mobile_generation.name': '5G', 'telecom.name': 'LGU', 'rate_plan.origin_price': 47000}]\n",
      "[{'rate_plan.name': '유쓰 5G 미니', 'mobile_generation.name': '5G', 'telecom.name': 'LGU', 'rate_plan.origin_price': 37000}]\n",
      "[{'rate_plan.name': '추가 요금 걱정 없는 데이터 시니어 69', 'mobile_generation.name': '5G', 'telecom.name': 'LGU', 'rate_plan.origin_price': 69000}]\n",
      "[{'rate_plan.name': '5G 시니어 A형', 'mobile_generation.name': '5G', 'telecom.name': 'LGU', 'rate_plan.origin_price': 45000}]\n",
      "[{'rate_plan.name': '5G 시니어 B형', 'mobile_generation.name': '5G', 'telecom.name': 'LGU', 'rate_plan.origin_price': 43000}]\n",
      "[{'rate_plan.name': '5G 시니어 C형', 'mobile_generation.name': '5G', 'telecom.name': 'LGU', 'rate_plan.origin_price': 39000}]\n",
      "[{'rate_plan.name': 'LTE 데이터 시니어 33', 'mobile_generation.name': 'LTE', 'telecom.name': 'LGU', 'rate_plan.origin_price': 33000}]\n",
      "[{'rate_plan.name': 'LTE 시니어 16.5 요금제(New 시니어 A)', 'mobile_generation.name': 'LTE', 'telecom.name': 'LGU', 'rate_plan.origin_price': 16500}]\n"
     ]
    },
    {
     "name": "stderr",
     "output_type": "stream",
     "text": [
      " 85%|████████▌ | 93/109 [00:02<00:00, 55.68it/s]"
     ]
    },
    {
     "name": "stdout",
     "output_type": "stream",
     "text": [
      "[{'rate_plan.name': '초이스 프리미엄 Y덤', 'mobile_generation.name': '5G', 'telecom.name': 'KT', 'rate_plan.origin_price': 130000}]\n",
      "[{'rate_plan.name': '초이스 스페셜 Y덤', 'mobile_generation.name': '5G', 'telecom.name': 'KT', 'rate_plan.origin_price': 110000}]\n",
      "[{'rate_plan.name': '초이스 베이직 Y덤', 'mobile_generation.name': '5G', 'telecom.name': 'KT', 'rate_plan.origin_price': 90000}]\n",
      "[{'rate_plan.name': '심플 110GB Y덤', 'mobile_generation.name': '5G', 'telecom.name': 'KT', 'rate_plan.origin_price': 69000}]\n",
      "[{'rate_plan.name': '심플 90GB Y덤', 'mobile_generation.name': '5G', 'telecom.name': 'KT', 'rate_plan.origin_price': 67000}]\n",
      "[{'rate_plan.name': '심플 70GB Y덤', 'mobile_generation.name': '5G', 'telecom.name': 'KT', 'rate_plan.origin_price': 65000}]\n",
      "[{'rate_plan.name': '심플 50GB Y덤', 'mobile_generation.name': '5G', 'telecom.name': 'KT', 'rate_plan.origin_price': 63000}]\n",
      "[{'rate_plan.name': '심플 30GB Y덤', 'mobile_generation.name': '5G', 'telecom.name': 'KT', 'rate_plan.origin_price': 61000}]\n",
      "[{'rate_plan.name': '슬림 21GB Y덤', 'mobile_generation.name': '5G', 'telecom.name': 'KT', 'rate_plan.origin_price': 58000}]\n",
      "[{'rate_plan.name': '슬림 10GB Y덤', 'mobile_generation.name': '5G', 'telecom.name': 'KT', 'rate_plan.origin_price': 50000}]\n",
      "[{'rate_plan.name': '슬림 7GB Y덤', 'mobile_generation.name': '5G', 'telecom.name': 'KT', 'rate_plan.origin_price': 45000}]\n",
      "[{'rate_plan.name': '슬림 4GB Y덤', 'mobile_generation.name': '5G', 'telecom.name': 'KT', 'rate_plan.origin_price': 37000}]\n"
     ]
    },
    {
     "name": "stderr",
     "output_type": "stream",
     "text": [
      " 97%|█████████▋| 106/109 [00:03<00:00, 56.73it/s]"
     ]
    },
    {
     "name": "stdout",
     "output_type": "stream",
     "text": [
      "[{'rate_plan.name': 'Y 요고 69', 'mobile_generation.name': '5G', 'telecom.name': 'KT', 'rate_plan.origin_price': 69000}]\n",
      "[{'rate_plan.name': 'Y 요고 61', 'mobile_generation.name': '5G', 'telecom.name': 'KT', 'rate_plan.origin_price': 61000}]\n",
      "[{'rate_plan.name': 'Y 요고 55', 'mobile_generation.name': '5G', 'telecom.name': 'KT', 'rate_plan.origin_price': 55000}]\n",
      "[{'rate_plan.name': 'Y 요고 49', 'mobile_generation.name': '5G', 'telecom.name': 'KT', 'rate_plan.origin_price': 49000}]\n",
      "[{'rate_plan.name': 'Y 요고 46', 'mobile_generation.name': '5G', 'telecom.name': 'KT', 'rate_plan.origin_price': 46000}]\n",
      "[{'rate_plan.name': 'Y 요고 44', 'mobile_generation.name': '5G', 'telecom.name': 'KT', 'rate_plan.origin_price': 44000}]\n",
      "[{'rate_plan.name': 'Y 요고 42', 'mobile_generation.name': '5G', 'telecom.name': 'KT', 'rate_plan.origin_price': 42000}]\n",
      "[{'rate_plan.name': 'Y 요고 40', 'mobile_generation.name': '5G', 'telecom.name': 'KT', 'rate_plan.origin_price': 40000}]\n",
      "[{'rate_plan.name': 'Y 요고 38', 'mobile_generation.name': '5G', 'telecom.name': 'KT', 'rate_plan.origin_price': 38000}]\n",
      "[{'rate_plan.name': 'Y 요고 36', 'mobile_generation.name': '5G', 'telecom.name': 'KT', 'rate_plan.origin_price': 36000}]\n",
      "[{'rate_plan.name': 'Y 요고 34', 'mobile_generation.name': '5G', 'telecom.name': 'KT', 'rate_plan.origin_price': 34000}]\n",
      "[{'rate_plan.name': 'Y 요고 32', 'mobile_generation.name': '5G', 'telecom.name': 'KT', 'rate_plan.origin_price': 32000}]\n"
     ]
    },
    {
     "name": "stderr",
     "output_type": "stream",
     "text": [
      "100%|██████████| 109/109 [00:03<00:00, 33.37it/s]"
     ]
    },
    {
     "name": "stdout",
     "output_type": "stream",
     "text": [
      "[{'rate_plan.name': 'Y 요고 30', 'mobile_generation.name': '5G', 'telecom.name': 'KT', 'rate_plan.origin_price': 30000}]\n"
     ]
    },
    {
     "name": "stderr",
     "output_type": "stream",
     "text": [
      "\n"
     ]
    }
   ],
   "source": [
    "import json\n",
    "from tqdm.auto import tqdm\n",
    "\n",
    "with open(\"rate_plan.json\", \"r\") as f:\n",
    "    data = json.load(f)\n",
    "\n",
    "for item in tqdm(data):\n",
    "    rate_plan = item[\"product_name\"]\n",
    "    age = item[\"user\"]\n",
    "    description = item[\"description\"]\n",
    "    mobile_generation = item[\"mobile_generation\"]\n",
    "    origin_price = item[\"origin_price\"]\n",
    "    telecom = item[\"telecom\"]\n",
    "    print(graph.query(f\"\"\"\n",
    "                CREATE (rate_plan:Rate_plan {{name:\"{rate_plan}\", age: \"{age}\", description:\"{description}\", origin_price: {int(origin_price)}}})\n",
    "                CREATE (rate_plan)-[:HAS_GENERATION_TYPE]->(mobile_generation :Mobile_generation {{name: \"{mobile_generation}\"}})\n",
    "                CREATE (rate_plan)-[r:HAS_TELECOM]->(telecom: Telecom {{name:\"{telecom}\"}})\n",
    "                RETURN rate_plan.name, mobile_generation.name, telecom.name, rate_plan.origin_price\n",
    "                \"\"\"))"
   ]
  },
  {
   "cell_type": "code",
   "execution_count": 52,
   "metadata": {},
   "outputs": [
    {
     "name": "stdout",
     "output_type": "stream",
     "text": [
      "Node properties:\n",
      "- **Rate_plan**\n",
      "  - `age`: STRING Available options: ['만 34세 이하', '만 65세 이상', '만 75세 이상', '만 80세 이상', '만 18세 이하', '만 19세 ~ 34세 이하', '만 65세 이상~70세 미만', '만 70세 이상~80세 미만']\n",
      "  - `description`: STRING Example: \"데이터 무제한, 음성/문자 기본제공 혜택의 5G 순액 요금제\"\n",
      "  - `name`: STRING Example: \"5G Y 스페셜\"\n",
      "  - `origin_price`: INTEGER Min: 9680, Max: 130000\n",
      "- **Mobile_generation**\n",
      "  - `name`: STRING Available options: ['5G', 'LTE', '3G']\n",
      "- **Telecom**\n",
      "  - `name`: STRING Available options: ['KT', 'SKT', 'LGU']\n",
      "Relationship properties:\n",
      "\n",
      "The relationships:\n",
      "(:Rate_plan)-[:HAS_GENERATION_TYPE]->(:Mobile_generation)\n",
      "(:Rate_plan)-[:HAS_TELECOM]->(:Telecom)\n"
     ]
    }
   ],
   "source": [
    "graph.refresh_schema()\n",
    "print(graph.schema)"
   ]
  },
  {
   "cell_type": "code",
   "execution_count": 53,
   "metadata": {},
   "outputs": [
    {
     "name": "stderr",
     "output_type": "stream",
     "text": [
      "Received notification from DBMS server: {severity: WARNING} {code: Neo.ClientNotification.Statement.UnknownLabelWarning} {category: UNRECOGNIZED} {title: The provided label is not in the database.} {description: One of the labels in your query is not available in the database, make sure you didn't misspell it or that the label is available when you run this statement in your application (the missing label name is: Product)} {position: line: 2, column: 23, offset: 23} for query: '\\n            MATCH (p :Product {name: \"5G Y 스페셜\"})-[:HAS_TELECOM]->(t: Telecom)\\n            MATCH (p)-[:HAS_GENERATION_TYPE]->(m)\\n            RETURN p, t, m\\n            '\n"
     ]
    },
    {
     "data": {
      "text/plain": [
       "[]"
      ]
     },
     "execution_count": 53,
     "metadata": {},
     "output_type": "execute_result"
    }
   ],
   "source": [
    "graph.query(\"\"\"\n",
    "            MATCH (p :Product {name: \"5G Y 스페셜\"})-[:HAS_TELECOM]->(t: Telecom)\n",
    "            MATCH (p)-[:HAS_GENERATION_TYPE]->(m)\n",
    "            RETURN p, t, m\n",
    "            \"\"\")"
   ]
  },
  {
   "cell_type": "code",
   "execution_count": null,
   "metadata": {},
   "outputs": [],
   "source": []
  }
 ],
 "metadata": {
  "kernelspec": {
   "display_name": "venv",
   "language": "python",
   "name": "python3"
  },
  "language_info": {
   "codemirror_mode": {
    "name": "ipython",
    "version": 3
   },
   "file_extension": ".py",
   "mimetype": "text/x-python",
   "name": "python",
   "nbconvert_exporter": "python",
   "pygments_lexer": "ipython3",
   "version": "3.12.3"
  }
 },
 "nbformat": 4,
 "nbformat_minor": 2
}
