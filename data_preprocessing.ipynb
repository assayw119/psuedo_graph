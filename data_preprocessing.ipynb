{
 "cells": [
  {
   "cell_type": "code",
   "execution_count": 1,
   "metadata": {},
   "outputs": [],
   "source": [
    "import pandas as pd\n",
    "import json"
   ]
  },
  {
   "cell_type": "code",
   "execution_count": 9,
   "metadata": {},
   "outputs": [
    {
     "name": "stdout",
     "output_type": "stream",
     "text": [
      "JSON 파일이 성공적으로 생성되었습니다: rate_plan.json\n"
     ]
    },
    {
     "name": "stderr",
     "output_type": "stream",
     "text": [
      "/var/folders/rw/thvczdt57kx2ll76qj8pvj5j3l_3dl/T/ipykernel_79324/1238574675.py:12: FutureWarning: Setting an item of incompatible dtype is deprecated and will raise an error in a future version of pandas. Value '' has dtype incompatible with float64, please explicitly cast to a compatible dtype first.\n",
      "  df.fillna(\"\", inplace=True)\n"
     ]
    }
   ],
   "source": [
    "import pandas as pd\n",
    "import json\n",
    "\n",
    "# CSV 파일 읽기\n",
    "csv_file_path = \"rate_plan.csv\"  # CSV 파일 경로\n",
    "json_file_path = \"rate_plan.json\"  # 저장할 JSON 파일 경로\n",
    "\n",
    "# CSV를 DataFrame으로 읽기\n",
    "df = pd.read_csv(csv_file_path)\n",
    "\n",
    "# NaN 값을 빈 문자열(\"\")로 대체\n",
    "df.fillna(\"\", inplace=True)\n",
    "\n",
    "# DataFrame을 JSON으로 변환\n",
    "data = df.to_dict(orient=\"records\")  # 각 행을 딕셔너리로 변환\n",
    "\n",
    "# JSON 파일로 저장\n",
    "with open(json_file_path, \"w\", encoding=\"utf-8\") as json_file:\n",
    "    json.dump(data, json_file, ensure_ascii=False, indent=4)\n",
    "\n",
    "print(f\"JSON 파일이 성공적으로 생성되었습니다: {json_file_path}\")\n"
   ]
  },
  {
   "cell_type": "code",
   "execution_count": null,
   "metadata": {},
   "outputs": [],
   "source": []
  }
 ],
 "metadata": {
  "kernelspec": {
   "display_name": "venv",
   "language": "python",
   "name": "python3"
  },
  "language_info": {
   "codemirror_mode": {
    "name": "ipython",
    "version": 3
   },
   "file_extension": ".py",
   "mimetype": "text/x-python",
   "name": "python",
   "nbconvert_exporter": "python",
   "pygments_lexer": "ipython3",
   "version": "3.12.3"
  }
 },
 "nbformat": 4,
 "nbformat_minor": 2
}
